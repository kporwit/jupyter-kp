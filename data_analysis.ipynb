{
 "cells": [
  {
   "cell_type": "markdown",
   "id": "6b16d25a",
   "metadata": {},
   "source": [
    "# Importing stuff\n",
    "- to properly run the analysis we need to import libraries"
   ]
  },
  {
   "cell_type": "code",
   "execution_count": 1,
   "id": "4a0e9993",
   "metadata": {},
   "outputs": [],
   "source": [
    "import numpy as np\n",
    "import matplotlib.pyplot as pp\n",
    "import pandas as pd\n",
    "import seaborn"
   ]
  },
  {
   "cell_type": "markdown",
   "id": "e3253e97",
   "metadata": {},
   "source": [
    "- matplotlib to run the graphs inline"
   ]
  },
  {
   "cell_type": "code",
   "execution_count": 2,
   "id": "80d7ffbc",
   "metadata": {},
   "outputs": [],
   "source": [
    "matplotlib inline"
   ]
  },
  {
   "cell_type": "markdown",
   "id": "e04f61d0",
   "metadata": {},
   "source": [
    "# Getting the data\n",
    "- Dataset downloaded from the site https://www.ssa.gov/oact/babynames/limits.html\n",
    "- Dataset should be put to the `names-dataset` directory"
   ]
  },
  {
   "cell_type": "code",
   "execution_count": 3,
   "id": "4793daf6",
   "metadata": {},
   "outputs": [
    {
     "data": {
      "text/plain": [
       "['Emma,F,20468\\n',\n",
       " 'Olivia,F,19713\\n',\n",
       " 'Sophia,F,17437\\n',\n",
       " 'Ava,F,16391\\n',\n",
       " 'Isabella,F,15641\\n']"
      ]
     },
     "execution_count": 3,
     "metadata": {},
     "output_type": "execute_result"
    }
   ],
   "source": [
    "open('names-dataset/yob2015.txt','r').readlines()[:5]\n"
   ]
  },
  {
   "cell_type": "markdown",
   "id": "68be238a",
   "metadata": {},
   "source": [
    "# Load the data into Pandas Data Frame\n",
    "- the data exists in three columns, lets name our columns properly"
   ]
  },
  {
   "cell_type": "code",
   "execution_count": 4,
   "id": "483e4db1",
   "metadata": {},
   "outputs": [
    {
     "data": {
      "text/html": [
       "<div>\n",
       "<style scoped>\n",
       "    .dataframe tbody tr th:only-of-type {\n",
       "        vertical-align: middle;\n",
       "    }\n",
       "\n",
       "    .dataframe tbody tr th {\n",
       "        vertical-align: top;\n",
       "    }\n",
       "\n",
       "    .dataframe thead th {\n",
       "        text-align: right;\n",
       "    }\n",
       "</style>\n",
       "<table border=\"1\" class=\"dataframe\">\n",
       "  <thead>\n",
       "    <tr style=\"text-align: right;\">\n",
       "      <th></th>\n",
       "      <th>Name</th>\n",
       "      <th>Sex</th>\n",
       "      <th>Babies</th>\n",
       "    </tr>\n",
       "  </thead>\n",
       "  <tbody>\n",
       "    <tr>\n",
       "      <th>0</th>\n",
       "      <td>Emma</td>\n",
       "      <td>F</td>\n",
       "      <td>20468</td>\n",
       "    </tr>\n",
       "    <tr>\n",
       "      <th>1</th>\n",
       "      <td>Olivia</td>\n",
       "      <td>F</td>\n",
       "      <td>19713</td>\n",
       "    </tr>\n",
       "    <tr>\n",
       "      <th>2</th>\n",
       "      <td>Sophia</td>\n",
       "      <td>F</td>\n",
       "      <td>17437</td>\n",
       "    </tr>\n",
       "    <tr>\n",
       "      <th>3</th>\n",
       "      <td>Ava</td>\n",
       "      <td>F</td>\n",
       "      <td>16391</td>\n",
       "    </tr>\n",
       "    <tr>\n",
       "      <th>4</th>\n",
       "      <td>Isabella</td>\n",
       "      <td>F</td>\n",
       "      <td>15641</td>\n",
       "    </tr>\n",
       "  </tbody>\n",
       "</table>\n",
       "</div>"
      ],
      "text/plain": [
       "       Name Sex  Babies\n",
       "0      Emma   F   20468\n",
       "1    Olivia   F   19713\n",
       "2    Sophia   F   17437\n",
       "3       Ava   F   16391\n",
       "4  Isabella   F   15641"
      ]
     },
     "execution_count": 4,
     "metadata": {},
     "output_type": "execute_result"
    }
   ],
   "source": [
    "names2015 = pd.read_csv('names-dataset/yob2015.txt', names = ['Name', 'Sex', 'Babies'])\n",
    "names2015.head()"
   ]
  },
  {
   "cell_type": "markdown",
   "id": "b60d7dda",
   "metadata": {},
   "source": [
    "# Modify the data \n",
    "\n",
    "- Concatenating pandas objects will allow us to work with all the separate text files within the names directory.\n",
    "\n",
    "- To concatenate these, we’ll first need to initialize a list by assigning a variable to an unpopulated list data type:"
   ]
  },
  {
   "cell_type": "code",
   "execution_count": 5,
   "id": "5b2eaebf",
   "metadata": {},
   "outputs": [],
   "source": [
    "all_years = []"
   ]
  },
  {
   "cell_type": "markdown",
   "id": "9136d7a7",
   "metadata": {},
   "source": [
    "- once we’ve done that, we’ll use a for loop to iterate over all the files by year, which range from 1880-2015. We’ll add +1 to the end of 2015 so that 2015 is included in the loop.\n",
    "- Within the loop, we’ll append to the list each of the text file values, using a string formatter to handle the different names of each of these files. We’ll pass those values to the year variable. Again, we’ll specify columns for Name, Sex, and the number of Babies.\n",
    "- Additionally, we’ll create a column for each of the years to keep those ordered. This we can do after each iteration by using the index of -1 to point to them as the loop progresses.\n",
    "- Finally, we’ll add it to the pandas object with concatenation using the pd.concat() function. We’ll use the variable all_names to store this information."
   ]
  },
  {
   "cell_type": "code",
   "execution_count": 6,
   "id": "f8c2c0e1",
   "metadata": {},
   "outputs": [],
   "source": [
    "for year in range(1880, 2015+1):\n",
    "    all_years.append(pd.read_csv('names-dataset/yob{}.txt'.format(year),\n",
    "                                 names = ['Name', 'Sex', 'Babies']))\n",
    "    all_years[-1]['Year'] = year\n",
    "\n",
    "all_names = pd.concat(all_years)\n",
    "\n"
   ]
  },
  {
   "cell_type": "markdown",
   "id": "21ab4a24",
   "metadata": {},
   "source": [
    "- print out the last 5 entries of the  table "
   ]
  },
  {
   "cell_type": "code",
   "execution_count": 9,
   "id": "35bbf042",
   "metadata": {},
   "outputs": [
    {
     "data": {
      "text/html": [
       "<div>\n",
       "<style scoped>\n",
       "    .dataframe tbody tr th:only-of-type {\n",
       "        vertical-align: middle;\n",
       "    }\n",
       "\n",
       "    .dataframe tbody tr th {\n",
       "        vertical-align: top;\n",
       "    }\n",
       "\n",
       "    .dataframe thead th {\n",
       "        text-align: right;\n",
       "    }\n",
       "</style>\n",
       "<table border=\"1\" class=\"dataframe\">\n",
       "  <thead>\n",
       "    <tr style=\"text-align: right;\">\n",
       "      <th></th>\n",
       "      <th>Name</th>\n",
       "      <th>Sex</th>\n",
       "      <th>Babies</th>\n",
       "      <th>Year</th>\n",
       "    </tr>\n",
       "  </thead>\n",
       "  <tbody>\n",
       "    <tr>\n",
       "      <th>33151</th>\n",
       "      <td>Zykell</td>\n",
       "      <td>M</td>\n",
       "      <td>5</td>\n",
       "      <td>2015</td>\n",
       "    </tr>\n",
       "    <tr>\n",
       "      <th>33152</th>\n",
       "      <td>Zyking</td>\n",
       "      <td>M</td>\n",
       "      <td>5</td>\n",
       "      <td>2015</td>\n",
       "    </tr>\n",
       "    <tr>\n",
       "      <th>33153</th>\n",
       "      <td>Zykir</td>\n",
       "      <td>M</td>\n",
       "      <td>5</td>\n",
       "      <td>2015</td>\n",
       "    </tr>\n",
       "    <tr>\n",
       "      <th>33154</th>\n",
       "      <td>Zyrus</td>\n",
       "      <td>M</td>\n",
       "      <td>5</td>\n",
       "      <td>2015</td>\n",
       "    </tr>\n",
       "    <tr>\n",
       "      <th>33155</th>\n",
       "      <td>Zyus</td>\n",
       "      <td>M</td>\n",
       "      <td>5</td>\n",
       "      <td>2015</td>\n",
       "    </tr>\n",
       "  </tbody>\n",
       "</table>\n",
       "</div>"
      ],
      "text/plain": [
       "         Name Sex  Babies  Year\n",
       "33151  Zykell   M       5  2015\n",
       "33152  Zyking   M       5  2015\n",
       "33153   Zykir   M       5  2015\n",
       "33154   Zyrus   M       5  2015\n",
       "33155    Zyus   M       5  2015"
      ]
     },
     "execution_count": 9,
     "metadata": {},
     "output_type": "execute_result"
    }
   ],
   "source": [
    "all_names.tail()"
   ]
  },
  {
   "cell_type": "markdown",
   "id": "4a988f0f",
   "metadata": {},
   "source": [
    "# Grouping data\n",
    "- With pandas you can group data by columns with the `.groupby()` function. Using our all_names variable for our full dataset, we can use `groupby()` to split the data into different buckets.\n",
    "\n",
    "- Let’s group the dataset by sex and year. We can set this up like so:"
   ]
  },
  {
   "cell_type": "code",
   "execution_count": 11,
   "id": "27012760",
   "metadata": {},
   "outputs": [],
   "source": [
    "group_name = all_names.groupby(['Sex', 'Year'])"
   ]
  },
  {
   "cell_type": "markdown",
   "id": "22b97b10",
   "metadata": {},
   "source": [
    "- To display values we will need to give instructions. We can calculate `.size()`, `.mean()`, and `.sum()`, for example, to return a table.\n",
    "\n",
    "- Let’s start with .size():"
   ]
  },
  {
   "cell_type": "code",
   "execution_count": 13,
   "id": "3f7dca23",
   "metadata": {},
   "outputs": [
    {
     "data": {
      "text/plain": [
       "Sex  Year\n",
       "F    1880      942\n",
       "     1881      938\n",
       "     1882     1028\n",
       "     1883     1054\n",
       "     1884     1172\n",
       "             ...  \n",
       "M    2011    14347\n",
       "     2012    14244\n",
       "     2013    14054\n",
       "     2014    14063\n",
       "     2015    14048\n",
       "Length: 272, dtype: int64"
      ]
     },
     "execution_count": 13,
     "metadata": {},
     "output_type": "execute_result"
    }
   ],
   "source": [
    "group_name.size()"
   ]
  },
  {
   "cell_type": "markdown",
   "id": "7c70459e",
   "metadata": {},
   "source": [
    "- This data looks good, but it could be more readable. We can make it more readable by appending the `.unstack` function:"
   ]
  },
  {
   "cell_type": "code",
   "execution_count": 15,
   "id": "3fbadfe0",
   "metadata": {},
   "outputs": [
    {
     "data": {
      "text/html": [
       "<div>\n",
       "<style scoped>\n",
       "    .dataframe tbody tr th:only-of-type {\n",
       "        vertical-align: middle;\n",
       "    }\n",
       "\n",
       "    .dataframe tbody tr th {\n",
       "        vertical-align: top;\n",
       "    }\n",
       "\n",
       "    .dataframe thead th {\n",
       "        text-align: right;\n",
       "    }\n",
       "</style>\n",
       "<table border=\"1\" class=\"dataframe\">\n",
       "  <thead>\n",
       "    <tr style=\"text-align: right;\">\n",
       "      <th>Year</th>\n",
       "      <th>1880</th>\n",
       "      <th>1881</th>\n",
       "      <th>1882</th>\n",
       "      <th>1883</th>\n",
       "      <th>1884</th>\n",
       "      <th>1885</th>\n",
       "      <th>1886</th>\n",
       "      <th>1887</th>\n",
       "      <th>1888</th>\n",
       "      <th>1889</th>\n",
       "      <th>...</th>\n",
       "      <th>2006</th>\n",
       "      <th>2007</th>\n",
       "      <th>2008</th>\n",
       "      <th>2009</th>\n",
       "      <th>2010</th>\n",
       "      <th>2011</th>\n",
       "      <th>2012</th>\n",
       "      <th>2013</th>\n",
       "      <th>2014</th>\n",
       "      <th>2015</th>\n",
       "    </tr>\n",
       "    <tr>\n",
       "      <th>Sex</th>\n",
       "      <th></th>\n",
       "      <th></th>\n",
       "      <th></th>\n",
       "      <th></th>\n",
       "      <th></th>\n",
       "      <th></th>\n",
       "      <th></th>\n",
       "      <th></th>\n",
       "      <th></th>\n",
       "      <th></th>\n",
       "      <th></th>\n",
       "      <th></th>\n",
       "      <th></th>\n",
       "      <th></th>\n",
       "      <th></th>\n",
       "      <th></th>\n",
       "      <th></th>\n",
       "      <th></th>\n",
       "      <th></th>\n",
       "      <th></th>\n",
       "      <th></th>\n",
       "    </tr>\n",
       "  </thead>\n",
       "  <tbody>\n",
       "    <tr>\n",
       "      <th>F</th>\n",
       "      <td>942</td>\n",
       "      <td>938</td>\n",
       "      <td>1028</td>\n",
       "      <td>1054</td>\n",
       "      <td>1172</td>\n",
       "      <td>1197</td>\n",
       "      <td>1282</td>\n",
       "      <td>1306</td>\n",
       "      <td>1474</td>\n",
       "      <td>1479</td>\n",
       "      <td>...</td>\n",
       "      <td>20056</td>\n",
       "      <td>20572</td>\n",
       "      <td>20470</td>\n",
       "      <td>20190</td>\n",
       "      <td>19823</td>\n",
       "      <td>19576</td>\n",
       "      <td>19519</td>\n",
       "      <td>19259</td>\n",
       "      <td>19217</td>\n",
       "      <td>19108</td>\n",
       "    </tr>\n",
       "    <tr>\n",
       "      <th>M</th>\n",
       "      <td>1058</td>\n",
       "      <td>996</td>\n",
       "      <td>1099</td>\n",
       "      <td>1030</td>\n",
       "      <td>1125</td>\n",
       "      <td>1097</td>\n",
       "      <td>1110</td>\n",
       "      <td>1067</td>\n",
       "      <td>1177</td>\n",
       "      <td>1111</td>\n",
       "      <td>...</td>\n",
       "      <td>14041</td>\n",
       "      <td>14393</td>\n",
       "      <td>14618</td>\n",
       "      <td>14532</td>\n",
       "      <td>14266</td>\n",
       "      <td>14347</td>\n",
       "      <td>14244</td>\n",
       "      <td>14054</td>\n",
       "      <td>14063</td>\n",
       "      <td>14048</td>\n",
       "    </tr>\n",
       "  </tbody>\n",
       "</table>\n",
       "<p>2 rows × 136 columns</p>\n",
       "</div>"
      ],
      "text/plain": [
       "Year  1880  1881  1882  1883  1884  1885  1886  1887  1888  1889  ...   2006  \\\n",
       "Sex                                                               ...          \n",
       "F      942   938  1028  1054  1172  1197  1282  1306  1474  1479  ...  20056   \n",
       "M     1058   996  1099  1030  1125  1097  1110  1067  1177  1111  ...  14041   \n",
       "\n",
       "Year   2007   2008   2009   2010   2011   2012   2013   2014   2015  \n",
       "Sex                                                                  \n",
       "F     20572  20470  20190  19823  19576  19519  19259  19217  19108  \n",
       "M     14393  14618  14532  14266  14347  14244  14054  14063  14048  \n",
       "\n",
       "[2 rows x 136 columns]"
      ]
     },
     "execution_count": 15,
     "metadata": {},
     "output_type": "execute_result"
    }
   ],
   "source": [
    "group_name.size().unstack()"
   ]
  },
  {
   "cell_type": "markdown",
   "id": "8485849d",
   "metadata": {},
   "source": [
    "- What this data tells us is how many female and male names there were for each year. In 1889, for example, there were 1,479 female names and 1,111 male names. In 2015 there were 18,993 female names and 13,959 male names. This shows that there is a greater diversity in names over time.\n",
    "- If we want to get the total number of babies born, we can use the `.sum()` function. Let’s apply that to a smaller dataset, the names2015 set from the single yob2015.txt file we created before:"
   ]
  },
  {
   "cell_type": "code",
   "execution_count": 17,
   "id": "b8d60ba7",
   "metadata": {},
   "outputs": [
    {
     "name": "stderr",
     "output_type": "stream",
     "text": [
      "/var/folders/h1/pvc6ykqn0d53_xtt74zxr3240000gn/T/ipykernel_10669/472096997.py:1: FutureWarning: The default value of numeric_only in DataFrameGroupBy.sum is deprecated. In a future version, numeric_only will default to False. Either specify numeric_only or select only columns which should be valid for the function.\n",
      "  names2015.groupby(['Sex']).sum()\n"
     ]
    },
    {
     "data": {
      "text/html": [
       "<div>\n",
       "<style scoped>\n",
       "    .dataframe tbody tr th:only-of-type {\n",
       "        vertical-align: middle;\n",
       "    }\n",
       "\n",
       "    .dataframe tbody tr th {\n",
       "        vertical-align: top;\n",
       "    }\n",
       "\n",
       "    .dataframe thead th {\n",
       "        text-align: right;\n",
       "    }\n",
       "</style>\n",
       "<table border=\"1\" class=\"dataframe\">\n",
       "  <thead>\n",
       "    <tr style=\"text-align: right;\">\n",
       "      <th></th>\n",
       "      <th>Babies</th>\n",
       "    </tr>\n",
       "    <tr>\n",
       "      <th>Sex</th>\n",
       "      <th></th>\n",
       "    </tr>\n",
       "  </thead>\n",
       "  <tbody>\n",
       "    <tr>\n",
       "      <th>F</th>\n",
       "      <td>1782611</td>\n",
       "    </tr>\n",
       "    <tr>\n",
       "      <th>M</th>\n",
       "      <td>1914078</td>\n",
       "    </tr>\n",
       "  </tbody>\n",
       "</table>\n",
       "</div>"
      ],
      "text/plain": [
       "      Babies\n",
       "Sex         \n",
       "F    1782611\n",
       "M    1914078"
      ]
     },
     "execution_count": 17,
     "metadata": {},
     "output_type": "execute_result"
    }
   ],
   "source": [
    "names2015.groupby(['Sex']).sum()"
   ]
  },
  {
   "cell_type": "markdown",
   "id": "0cdd8dff",
   "metadata": {},
   "source": [
    "- This shows us the total number of male and female babies born in 2015, though only babies whose name was used at least 5 times that year are counted in the dataset.\n",
    "- The pandas `.groupby()` function allows us to segment our data into meaningful groups."
   ]
  },
  {
   "cell_type": "markdown",
   "id": "2684fd5d",
   "metadata": {},
   "source": [
    "# Pivot tables\n",
    "- Pivot tables are useful for summarizing data. They can automatically sort, count, total, or average data stored in one table. Then, they can show the results of those actions in a new table of that summarized data.\n",
    "- In pandas, the `pivot_table()` function is used to create pivot tables.\n",
    "- we may want to keep Name and Year as columns rather than as rows in one case and columns in the other. We can do that by grouping the data in square brackets:"
   ]
  },
  {
   "cell_type": "code",
   "execution_count": 20,
   "id": "83c87e82",
   "metadata": {
    "scrolled": true
   },
   "outputs": [
    {
     "data": {
      "text/html": [
       "<div>\n",
       "<style scoped>\n",
       "    .dataframe tbody tr th:only-of-type {\n",
       "        vertical-align: middle;\n",
       "    }\n",
       "\n",
       "    .dataframe tbody tr th {\n",
       "        vertical-align: top;\n",
       "    }\n",
       "\n",
       "    .dataframe thead th {\n",
       "        text-align: right;\n",
       "    }\n",
       "</style>\n",
       "<table border=\"1\" class=\"dataframe\">\n",
       "  <thead>\n",
       "    <tr style=\"text-align: right;\">\n",
       "      <th></th>\n",
       "      <th></th>\n",
       "      <th>Babies</th>\n",
       "    </tr>\n",
       "    <tr>\n",
       "      <th>Name</th>\n",
       "      <th>Year</th>\n",
       "      <th></th>\n",
       "    </tr>\n",
       "  </thead>\n",
       "  <tbody>\n",
       "    <tr>\n",
       "      <th rowspan=\"5\" valign=\"top\">Aaban</th>\n",
       "      <th>2007</th>\n",
       "      <td>5.0</td>\n",
       "    </tr>\n",
       "    <tr>\n",
       "      <th>2009</th>\n",
       "      <td>6.0</td>\n",
       "    </tr>\n",
       "    <tr>\n",
       "      <th>2010</th>\n",
       "      <td>9.0</td>\n",
       "    </tr>\n",
       "    <tr>\n",
       "      <th>2011</th>\n",
       "      <td>11.0</td>\n",
       "    </tr>\n",
       "    <tr>\n",
       "      <th>2012</th>\n",
       "      <td>11.0</td>\n",
       "    </tr>\n",
       "    <tr>\n",
       "      <th>...</th>\n",
       "      <th>...</th>\n",
       "      <td>...</td>\n",
       "    </tr>\n",
       "    <tr>\n",
       "      <th>Zyvion</th>\n",
       "      <th>2009</th>\n",
       "      <td>5.0</td>\n",
       "    </tr>\n",
       "    <tr>\n",
       "      <th>Zyvon</th>\n",
       "      <th>2015</th>\n",
       "      <td>7.0</td>\n",
       "    </tr>\n",
       "    <tr>\n",
       "      <th>Zyyanna</th>\n",
       "      <th>2010</th>\n",
       "      <td>6.0</td>\n",
       "    </tr>\n",
       "    <tr>\n",
       "      <th>Zyyon</th>\n",
       "      <th>2014</th>\n",
       "      <td>6.0</td>\n",
       "    </tr>\n",
       "    <tr>\n",
       "      <th>Zzyzx</th>\n",
       "      <th>2010</th>\n",
       "      <td>5.0</td>\n",
       "    </tr>\n",
       "  </tbody>\n",
       "</table>\n",
       "<p>1696554 rows × 1 columns</p>\n",
       "</div>"
      ],
      "text/plain": [
       "              Babies\n",
       "Name    Year        \n",
       "Aaban   2007     5.0\n",
       "        2009     6.0\n",
       "        2010     9.0\n",
       "        2011    11.0\n",
       "        2012    11.0\n",
       "...              ...\n",
       "Zyvion  2009     5.0\n",
       "Zyvon   2015     7.0\n",
       "Zyyanna 2010     6.0\n",
       "Zyyon   2014     6.0\n",
       "Zzyzx   2010     5.0\n",
       "\n",
       "[1696554 rows x 1 columns]"
      ]
     },
     "execution_count": 20,
     "metadata": {},
     "output_type": "execute_result"
    }
   ],
   "source": [
    "pd.pivot_table(all_names, 'Babies', ['Name', 'Year'])"
   ]
  },
  {
   "cell_type": "markdown",
   "id": "11ff11b0",
   "metadata": {},
   "source": [
    "# Visualize the data\n",
    "- By using pandas with other packages like `matplotlib` we can visualize data within our notebook.\n",
    "\n",
    "- We’ll be visualizing data about the popularity of a given name over the years. In order to do that, we need to set and sort indexes to rework the data that will allow us to see the changing popularity of a particular name.\n",
    "\n",
    "- The pandas package lets us carry out hierarchical or multi-level indexing which lets us store and manipulate data with an arbitrary number of dimensions.\n",
    "\n",
    "- We’re going to index our data with information on Sex, then Name, then Year. We’ll also want to sort the index:\n"
   ]
  },
  {
   "cell_type": "code",
   "execution_count": 23,
   "id": "be4654be",
   "metadata": {},
   "outputs": [
    {
     "data": {
      "text/html": [
       "<div>\n",
       "<style scoped>\n",
       "    .dataframe tbody tr th:only-of-type {\n",
       "        vertical-align: middle;\n",
       "    }\n",
       "\n",
       "    .dataframe tbody tr th {\n",
       "        vertical-align: top;\n",
       "    }\n",
       "\n",
       "    .dataframe thead th {\n",
       "        text-align: right;\n",
       "    }\n",
       "</style>\n",
       "<table border=\"1\" class=\"dataframe\">\n",
       "  <thead>\n",
       "    <tr style=\"text-align: right;\">\n",
       "      <th></th>\n",
       "      <th></th>\n",
       "      <th></th>\n",
       "      <th>Babies</th>\n",
       "    </tr>\n",
       "    <tr>\n",
       "      <th>Sex</th>\n",
       "      <th>Name</th>\n",
       "      <th>Year</th>\n",
       "      <th></th>\n",
       "    </tr>\n",
       "  </thead>\n",
       "  <tbody>\n",
       "    <tr>\n",
       "      <th rowspan=\"5\" valign=\"top\">F</th>\n",
       "      <th rowspan=\"4\" valign=\"top\">Aabha</th>\n",
       "      <th>2011</th>\n",
       "      <td>7</td>\n",
       "    </tr>\n",
       "    <tr>\n",
       "      <th>2012</th>\n",
       "      <td>5</td>\n",
       "    </tr>\n",
       "    <tr>\n",
       "      <th>2014</th>\n",
       "      <td>9</td>\n",
       "    </tr>\n",
       "    <tr>\n",
       "      <th>2015</th>\n",
       "      <td>7</td>\n",
       "    </tr>\n",
       "    <tr>\n",
       "      <th>Aabriella</th>\n",
       "      <th>2008</th>\n",
       "      <td>5</td>\n",
       "    </tr>\n",
       "    <tr>\n",
       "      <th>...</th>\n",
       "      <th>...</th>\n",
       "      <th>...</th>\n",
       "      <td>...</td>\n",
       "    </tr>\n",
       "    <tr>\n",
       "      <th rowspan=\"5\" valign=\"top\">M</th>\n",
       "      <th>Zyus</th>\n",
       "      <th>2015</th>\n",
       "      <td>5</td>\n",
       "    </tr>\n",
       "    <tr>\n",
       "      <th>Zyvion</th>\n",
       "      <th>2009</th>\n",
       "      <td>5</td>\n",
       "    </tr>\n",
       "    <tr>\n",
       "      <th>Zyvon</th>\n",
       "      <th>2015</th>\n",
       "      <td>7</td>\n",
       "    </tr>\n",
       "    <tr>\n",
       "      <th>Zyyon</th>\n",
       "      <th>2014</th>\n",
       "      <td>6</td>\n",
       "    </tr>\n",
       "    <tr>\n",
       "      <th>Zzyzx</th>\n",
       "      <th>2010</th>\n",
       "      <td>5</td>\n",
       "    </tr>\n",
       "  </tbody>\n",
       "</table>\n",
       "<p>1859831 rows × 1 columns</p>\n",
       "</div>"
      ],
      "text/plain": [
       "                    Babies\n",
       "Sex Name      Year        \n",
       "F   Aabha     2011       7\n",
       "              2012       5\n",
       "              2014       9\n",
       "              2015       7\n",
       "    Aabriella 2008       5\n",
       "...                    ...\n",
       "M   Zyus      2015       5\n",
       "    Zyvion    2009       5\n",
       "    Zyvon     2015       7\n",
       "    Zyyon     2014       6\n",
       "    Zzyzx     2010       5\n",
       "\n",
       "[1859831 rows x 1 columns]"
      ]
     },
     "execution_count": 23,
     "metadata": {},
     "output_type": "execute_result"
    }
   ],
   "source": [
    "all_names_index = all_names.set_index(['Sex','Name','Year']).sort_index()\n",
    "all_names_index"
   ]
  },
  {
   "cell_type": "markdown",
   "id": "eb8a0be5",
   "metadata": {},
   "source": [
    "- Next, we’ll want to write a function that will plot the popularity of a name over time. We’ll call the function name_plot and pass sex and name as its parameters that we will call when we run the function.\n",
    "\n",
    "- We’ll now set up a variable called data to hold the table we have created. We’ll also use the pandas DataFrame loc in order to select our row by the value of the index. In our case, we’ll want loc to be based on a combination of fields in the MultiIndex, referring to both the sex and name data.\n",
    "\n",
    "- Finally, we’ll want to plot the values with matplotlib.pyplot which we imported as pp. We’ll then plot the values of the sex and name data against the index, which for our purposes is years."
   ]
  },
  {
   "cell_type": "code",
   "execution_count": 26,
   "id": "b46c8f59",
   "metadata": {},
   "outputs": [],
   "source": [
    "def name_plot(sex, name):\n",
    "    data = all_names_index.loc[sex, name]\n",
    "    \n",
    "    pp.plot(data.index, data.values)\n"
   ]
  },
  {
   "cell_type": "markdown",
   "id": "bc533e16",
   "metadata": {},
   "source": [
    "- We can now call the function with the sex and name of our choice, such as `F` for female name with the given name `Danica`."
   ]
  },
  {
   "cell_type": "code",
   "execution_count": 27,
   "id": "9206befc",
   "metadata": {},
   "outputs": [
    {
     "data": {
      "image/png": "[encoded data removed]",
      "text/plain": [
       "<Figure size 640x480 with 1 Axes>"
      ]
     },
     "metadata": {},
     "output_type": "display_data"
    }
   ],
   "source": [
    "name_plot('F', 'Danica')"
   ]
  },
  {
   "cell_type": "markdown",
   "id": "c0c24e51",
   "metadata": {},
   "source": [
    "- Looking at the visualization, we can see that the female name `Danica` had a small rise in popularity around 1990, and peaked just before 2010.\n",
    "\n",
    "- The function we created can be used to plot data from more than one name, so that we can see trends over time across different names.\n",
    "\n",
    "- Let’s start by making our plot a little bit larger:"
   ]
  },
  {
   "cell_type": "code",
   "execution_count": 28,
   "id": "f81475fd",
   "metadata": {},
   "outputs": [
    {
     "data": {
      "text/plain": [
       "<Figure size 1800x800 with 0 Axes>"
      ]
     },
     "execution_count": 28,
     "metadata": {},
     "output_type": "execute_result"
    },
    {
     "data": {
      "text/plain": [
       "<Figure size 1800x800 with 0 Axes>"
      ]
     },
     "metadata": {},
     "output_type": "display_data"
    }
   ],
   "source": [
    "pp.figure(figsize = (18, 8))"
   ]
  },
  {
   "cell_type": "markdown",
   "id": "424a7cb8",
   "metadata": {},
   "source": [
    "- Next, let’s create a list with all the names we would like to plot:"
   ]
  },
  {
   "cell_type": "code",
   "execution_count": 29,
   "id": "d1536ca4",
   "metadata": {},
   "outputs": [],
   "source": [
    "names = ['Sammy', 'Jesse', 'Drew', 'Jamie']"
   ]
  },
  {
   "cell_type": "markdown",
   "id": "e062db1d",
   "metadata": {},
   "source": [
    "- Now, we can iterate through the list with a for loop and plot the data for each name. First, we’ll try these gender neutral names as female names.\n",
    "- to make this data easier to understand, let’s include a legend:"
   ]
  },
  {
   "cell_type": "code",
   "execution_count": 31,
   "id": "b7c25428",
   "metadata": {},
   "outputs": [
    {
     "data": {
      "text/plain": [
       "<matplotlib.legend.Legend at 0x7fa264f1cb50>"
      ]
     },
     "execution_count": 31,
     "metadata": {},
     "output_type": "execute_result"
    },
    {
     "data": {
      "image/png": "[encoded data removed]",
      "text/plain": [
       "<Figure size 640x480 with 1 Axes>"
      ]
     },
     "metadata": {},
     "output_type": "display_data"
    }
   ],
   "source": [
    "for name in names:\n",
    "    name_plot('F', name)\n",
    "    \n",
    "pp.legend(names)\n"
   ]
  },
  {
   "cell_type": "markdown",
   "id": "1d440139",
   "metadata": {},
   "source": [
    "-  each of the names has been slowly gaining popularity as female names, the name Jamie was overwhelmingly popular as a female name in the years around 1980.\n",
    "\n",
    "- Let’s plot the same names but this time as male names:"
   ]
  },
  {
   "cell_type": "code",
   "execution_count": 32,
   "id": "63237f70",
   "metadata": {},
   "outputs": [
    {
     "data": {
      "text/plain": [
       "<matplotlib.legend.Legend at 0x7fa2919b7dc0>"
      ]
     },
     "execution_count": 32,
     "metadata": {},
     "output_type": "execute_result"
    },
    {
     "data": {
      "image/png": "[encoded data removed]",
      "text/plain": [
       "<Figure size 1800x800 with 1 Axes>"
      ]
     },
     "metadata": {},
     "output_type": "display_data"
    }
   ],
   "source": [
    "pp.figure(figsize = (18, 8))\n",
    "\n",
    "names = ['Sammy', 'Jesse', 'Drew', 'Jamie']\n",
    "\n",
    "for name in names:\n",
    "    name_plot('M', name)\n",
    "    \n",
    "pp.legend(names)"
   ]
  },
  {
   "cell_type": "markdown",
   "id": "d214cb7c",
   "metadata": {},
   "source": [
    "- This data shows more popularity across names, with Jesse being generally the most popular choice, and being particularly popular in the 1980s and 1990s."
   ]
  },
  {
   "cell_type": "markdown",
   "id": "ff53e9ce",
   "metadata": {},
   "source": [
    "# Conclusion\n",
    "- This tutorial introduced you to ways of working with large data sets from setting up the data, to grouping the data with `groupby()` and `pivot_table()`, indexing the data with a MultiIndex, and visualizing pandas data using the matplotlib package.\n",
    "\n",
    "- Many organizations and institutions provide data sets that you can work with to continue to learn about pandas and data visualization. The US government provides data through data.gov, for example.\n",
    "\n",
    "- source: https://www.digitalocean.com/community/tutorials/data-analysis-and-visualization-with-pandas-and-jupyter-notebook-in-python-3"
   ]
  }
 ],
 "metadata": {
  "kernelspec": {
   "display_name": "Python 3 (ipykernel)",
   "language": "python",
   "name": "python3"
  },
  "language_info": {
   "codemirror_mode": {
    "name": "ipython",
    "version": 3
   },
   "file_extension": ".py",
   "mimetype": "text/x-python",
   "name": "python",
   "nbconvert_exporter": "python",
   "pygments_lexer": "ipython3",
   "version": "3.10.0"
  }
 },
 "nbformat": 4,
 "nbformat_minor": 5
}
